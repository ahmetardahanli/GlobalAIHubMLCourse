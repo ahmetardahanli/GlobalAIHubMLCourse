{
 "cells": [
  {
   "cell_type": "markdown",
   "metadata": {},
   "source": [
    "# Homework 1"
   ]
  },
  {
   "cell_type": "markdown",
   "metadata": {},
   "source": [
    "## Question 1"
   ]
  },
  {
   "cell_type": "markdown",
   "metadata": {},
   "source": [
    "Machine learning is an application of **artificial intelligence (AI)** that provides systems the ability to **automatically learn** and improve from experience without being explicitly programmed. Machine learning focuses on the development of computer programs that can access data and use it to learn for themselves."
   ]
  },
  {
   "cell_type": "markdown",
   "metadata": {},
   "source": [
    "## Question 2"
   ]
  },
  {
   "cell_type": "markdown",
   "metadata": {},
   "source": [
    "| SUPERVISED LEARNING | UNSUPERVISED LEARNING |\n",
    "| :- | :-  |\n",
    "| SL models are trained using **labeled** data | USL models are trained using **unlabeled** data |\n",
    "| SL predicts the output | USL finds the hidden patterns in data |\n",
    "| SL is used for **Classification** and **Regression** problems | USL is used for **Clustering** and **Associations** problems |\n",
    "\n",
    "**Supervised Learning algorithms:** \n",
    "- Simple Linear Regression\n",
    "- Decision Tree Classification\n",
    "- Naive Bayes Classification\n",
    "\n",
    "**Unsupervised Learning algorithms:** \n",
    "- Hierarchical Clustering\n",
    "- K-Means Clustering\n",
    "- Principal Component Analysis\n"
   ]
  },
  {
   "cell_type": "markdown",
   "metadata": {},
   "source": [
    "## Question 3"
   ]
  },
  {
   "cell_type": "markdown",
   "metadata": {},
   "source": [
    "**Validation set** is usually used for parameter selection and to avoid overfitting.\n",
    "**Test test** is used to test the performance of a trained model. "
   ]
  },
  {
   "cell_type": "markdown",
   "metadata": {},
   "source": [
    "## Question 4"
   ]
  },
  {
   "cell_type": "markdown",
   "metadata": {},
   "source": [
    "The basic pre-processing steps: \n",
    "\n",
    "**1. Acquiring the dataset**\n",
    "\n",
    "We must first acquire the dataset from multiple and disparate sources within a format which is appropriate for our study.\n",
    "\n",
    "**2. Identifying and handling the missing values**\n",
    "\n",
    "Some feature values may not have been obtained while collecting the dataset. So it is crucial to identify and correctly handle the missing values.\n",
    "Basically there are two ways to handle missing values:\n",
    "\n",
    "- __Deleting:__ In this way, we remove the row that has a missing value for a feature. This method is recommended if we have enough samples.\n",
    "- __Filling with mean, mode or median:__ This method is useful for features having numerical data. We calculate mean, mode or median of a feature and fill missing values with that result value. \n",
    "\n",
    "**3. Outlier detection**\n",
    "\n",
    "Outliers are extreme values that deviate from other observations on data , they may indicate a variability in a measurement, experimental errors or a novelty. In other words, an outlier is an observation that diverges from an overall pattern on a sample. Outliers in a data set may be caused by many reasons like data entry errors, measurement errors etc.\n",
    "\n",
    "We need to detect these errors by using standart deviation, box plotting or IQR calculation.\n",
    "\n",
    "**4. Encoding the categorical data**\n",
    "\n",
    "Categorical data refers to the information that has specific categories within the dataset.\n",
    "\n",
    "For nominal data one-hot-encoding method is used.\n",
    "\n",
    "For ordinal data label encoding method is used.\n",
    "\n",
    "**5. Feature scaling**\n",
    "\n",
    "It is a method to standardize the independent variables of a dataset within a specific range. In other words, feature scaling limits the range of variables so that you can compare them on common grounds.\n",
    "\n",
    "- __Standardization:__ transforms data to have a mean of zero and a standard deviation of 1.\n",
    "$$  X_{new} = \\frac{X-\\mu}{\\sigma} $$  \n",
    "- __Normalization:__ means to scale a variable to have a values between 0 and 1.\n",
    "$$X_{new} = \\frac{X-X_{min}}{X_{max} - X_{min}} $$\n",
    "\n",
    "**6. Splitting the dataset**\n",
    "\n",
    "According to the machine learning algorithm we use, we need to divide the dataset into 2 or 3 groups."
   ]
  },
  {
   "cell_type": "markdown",
   "metadata": {},
   "source": [
    "## Question 5"
   ]
  },
  {
   "cell_type": "markdown",
   "metadata": {},
   "source": [
    "A simple way to describe the difference between the continious and discrete variables is to visualize a scatter plot graph vs. a line graph."
   ]
  },
  {
   "cell_type": "markdown",
   "metadata": {},
   "source": [
    "## Question 6"
   ]
  },
  {
   "cell_type": "markdown",
   "metadata": {},
   "source": [
    "Graph is a type of histogram and distribution for petal width(cm) feature. Petal width is a type of continious variable. According to the chart, petal width is most frequently found in the data set at about 0.3(cm) and 1.4(cm) values. However, the distribution appears normal between ranges. "
   ]
  }
 ],
 "metadata": {
  "kernelspec": {
   "display_name": "Python 3",
   "language": "python",
   "name": "python3"
  },
  "language_info": {
   "codemirror_mode": {
    "name": "ipython",
    "version": 3
   },
   "file_extension": ".py",
   "mimetype": "text/x-python",
   "name": "python",
   "nbconvert_exporter": "python",
   "pygments_lexer": "ipython3",
   "version": "3.7.4"
  }
 },
 "nbformat": 4,
 "nbformat_minor": 4
}
